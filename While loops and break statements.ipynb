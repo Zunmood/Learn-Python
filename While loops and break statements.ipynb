{
 "cells": [
  {
   "cell_type": "code",
   "execution_count": 2,
   "metadata": {},
   "outputs": [
    {
     "name": "stdout",
     "output_type": "stream",
     "text": [
      "10\n"
     ]
    }
   ],
   "source": [
    "total = 0\n",
    "for i in range(1,5):\n",
    "    total += i\n",
    "print(total)"
   ]
  },
  {
   "cell_type": "code",
   "execution_count": 3,
   "metadata": {},
   "outputs": [
    {
     "name": "stdout",
     "output_type": "stream",
     "text": [
      "10\n"
     ]
    }
   ],
   "source": [
    "#while loop\n",
    "total2 = 0\n",
    "j = 0\n",
    "while j < 5:\n",
    "    total2 += j\n",
    "    j += 1\n",
    "print(total2)"
   ]
  },
  {
   "cell_type": "code",
   "execution_count": 5,
   "metadata": {},
   "outputs": [
    {
     "name": "stdout",
     "output_type": "stream",
     "text": [
      "17\n"
     ]
    }
   ],
   "source": [
    "given_list = [5,4,4,3,1,-1,-3,-4]#want to find the sum of positive integers and works if only the list has one positive integer\n",
    "total3 = 0\n",
    "a = 0\n",
    "while  given_list[a] > 0:\n",
    "    total3 += given_list[a]\n",
    "    a += 1\n",
    "print(total3)"
   ]
  },
  {
   "cell_type": "code",
   "execution_count": 9,
   "metadata": {},
   "outputs": [
    {
     "name": "stdout",
     "output_type": "stream",
     "text": [
      "17\n"
     ]
    }
   ],
   "source": [
    "given_list2 = [5,4,4,3,1]#sum of positive integers with while loop\n",
    "total4 = 0\n",
    "a = 0\n",
    "while a < len(given_list) and given_list[a] > 0:\n",
    "    total4 += given_list[a]\n",
    "    a += 1\n",
    "print(total4)"
   ]
  },
  {
   "cell_type": "code",
   "execution_count": 17,
   "metadata": {},
   "outputs": [
    {
     "name": "stdout",
     "output_type": "stream",
     "text": [
      "17\n"
     ]
    }
   ],
   "source": [
    "given_list3 = [5,4,4,3,1,-5,-8]#sum of positive integers with for loop and break statement\n",
    "total5 = 0\n",
    "for element in given_list3:\n",
    "    if element <= 0:\n",
    "        break\n",
    "    total5 += element\n",
    "print(total5)"
   ]
  },
  {
   "cell_type": "code",
   "execution_count": 20,
   "metadata": {},
   "outputs": [
    {
     "name": "stdout",
     "output_type": "stream",
     "text": [
      "17\n"
     ]
    }
   ],
   "source": [
    "#given_list3 = [5,4,4,3,1,-5,-8]\n",
    "total6 = 0\n",
    "i = 0\n",
    "while True:\n",
    "    total6 += given_list3[i]\n",
    "    i += 1\n",
    "    if given_list3[i] <= 0:\n",
    "        break\n",
    "print(total6)"
   ]
  },
  {
   "cell_type": "code",
   "execution_count": null,
   "metadata": {},
   "outputs": [],
   "source": []
  }
 ],
 "metadata": {
  "kernelspec": {
   "display_name": "Python 3",
   "language": "python",
   "name": "python3"
  },
  "language_info": {
   "codemirror_mode": {
    "name": "ipython",
    "version": 3
   },
   "file_extension": ".py",
   "mimetype": "text/x-python",
   "name": "python",
   "nbconvert_exporter": "python",
   "pygments_lexer": "ipython3",
   "version": "3.8.3"
  }
 },
 "nbformat": 4,
 "nbformat_minor": 4
}
